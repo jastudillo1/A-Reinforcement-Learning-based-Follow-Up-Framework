{
 "cells": [
  {
   "cell_type": "code",
   "execution_count": 12,
   "id": "owned-wayne",
   "metadata": {},
   "outputs": [],
   "source": [
    "import json\n",
    "import pandas as pd\n",
    "import pickle"
   ]
  },
  {
   "cell_type": "code",
   "execution_count": 3,
   "id": "virgin-offering",
   "metadata": {},
   "outputs": [],
   "source": [
    "with open('runs/models/summary.pk', 'rb') as f:\n",
    "    summary = pickle.load(f)"
   ]
  },
  {
   "cell_type": "code",
   "execution_count": 14,
   "id": "horizontal-anthony",
   "metadata": {},
   "outputs": [
    {
     "name": "stdout",
     "output_type": "stream",
     "text": [
      "{\n",
      "    \"model_4\": {\n",
      "        \"rewards\": {\n",
      "            \"random\": 0.5574106717454291,\n",
      "            \"baseline\": 0.5729082759903633,\n",
      "            \"rl\": 0.5989894762018656\n",
      "        },\n",
      "        \"episode\": 0,\n",
      "        \"target\": {\n",
      "            \"train\": 0.7614248866698287,\n",
      "            \"val\": 0.7598680433208965\n",
      "        }\n",
      "    },\n",
      "    \"model_10\": {\n",
      "        \"rewards\": {\n",
      "            \"random\": 0.5666484182123486,\n",
      "            \"baseline\": 0.5703636501927621,\n",
      "            \"rl\": 0.6576492727087783\n",
      "        },\n",
      "        \"episode\": 0,\n",
      "        \"target\": {\n",
      "            \"train\": 0.7614248866698287,\n",
      "            \"val\": 0.7598680433208965\n",
      "        }\n",
      "    },\n",
      "    \"model_5\": {\n",
      "        \"rewards\": {\n",
      "            \"random\": 0.5619728047100644,\n",
      "            \"baseline\": 0.567777487353319,\n",
      "            \"rl\": 0.6737232884394923\n",
      "        },\n",
      "        \"episode\": 100,\n",
      "        \"target\": {\n",
      "            \"train\": 0.7614248866698287,\n",
      "            \"val\": 0.7598680433208965\n",
      "        }\n",
      "    },\n",
      "    \"model_22\": {\n",
      "        \"rewards\": {\n",
      "            \"random\": 0.5503230795876508,\n",
      "            \"baseline\": 0.5658480767803319,\n",
      "            \"rl\": 0.6814966171542307\n",
      "        },\n",
      "        \"episode\": 1100,\n",
      "        \"target\": {\n",
      "            \"train\": 0.7614248866698287,\n",
      "            \"val\": 0.7598680433208965\n",
      "        }\n",
      "    },\n",
      "    \"model_9\": {\n",
      "        \"rewards\": {\n",
      "            \"random\": 0.5548643823514131,\n",
      "            \"baseline\": 0.5690932000285067,\n",
      "            \"rl\": 0.68177146478184\n",
      "        },\n",
      "        \"episode\": 5800,\n",
      "        \"target\": {\n",
      "            \"train\": 0.7614248866698287,\n",
      "            \"val\": 0.7598680433208965\n",
      "        }\n",
      "    },\n",
      "    \"model_11\": {\n",
      "        \"rewards\": {\n",
      "            \"random\": 0.5623922460053068,\n",
      "            \"baseline\": 0.5748980923835975,\n",
      "            \"rl\": 0.6830969052665726\n",
      "        },\n",
      "        \"episode\": 5900,\n",
      "        \"target\": {\n",
      "            \"train\": 0.7614248866698287,\n",
      "            \"val\": 0.7598680433208965\n",
      "        }\n",
      "    }\n",
      "}\n"
     ]
    }
   ],
   "source": [
    "print(json.dumps(summary, indent=4))"
   ]
  },
  {
   "cell_type": "code",
   "execution_count": null,
   "id": "developed-aaron",
   "metadata": {},
   "outputs": [],
   "source": []
  }
 ],
 "metadata": {
  "kernelspec": {
   "display_name": "Python 3",
   "language": "python",
   "name": "python3"
  },
  "language_info": {
   "codemirror_mode": {
    "name": "ipython",
    "version": 3
   },
   "file_extension": ".py",
   "mimetype": "text/x-python",
   "name": "python",
   "nbconvert_exporter": "python",
   "pygments_lexer": "ipython3",
   "version": "3.8.6"
  }
 },
 "nbformat": 4,
 "nbformat_minor": 5
}
