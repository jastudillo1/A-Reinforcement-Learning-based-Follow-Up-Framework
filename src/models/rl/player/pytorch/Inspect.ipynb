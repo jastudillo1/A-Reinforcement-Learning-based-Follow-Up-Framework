{
 "cells": [
  {
   "cell_type": "code",
   "execution_count": 1,
   "metadata": {},
   "outputs": [],
   "source": [
    "import json\n",
    "import numpy as np\n",
    "import pandas as pd\n",
    "import pickle"
   ]
  },
  {
   "cell_type": "code",
   "execution_count": 2,
   "metadata": {},
   "outputs": [],
   "source": [
    "features_path = '../../Data/features/features-2.csv'\n",
    "clf_path = '../../Data/scripts/strategies/classifiers.pkl'\n",
    "train_path = '../../Data/scripts/strategies/train_ids.csv'\n",
    "test_path = '../../Data/scripts/strategies/test_ids.csv'\n",
    "val_path = '../../Data/scripts/strategies/val_ids.csv'\n",
    "\n",
    "test_save = './baseline_test.pk'\n",
    "val_save = './baseline_val.pk'\n",
    "\n",
    "input_order = ['photo', 'spec', 'color']\n",
    "settings_path = '../../Data/scripts/strategies/strategies/settings10.json'\n",
    "\n",
    "features = pd.read_csv(features_path)"
   ]
  },
  {
   "cell_type": "code",
   "execution_count": 9,
   "metadata": {},
   "outputs": [],
   "source": [
    "no_overlap = []\n",
    "for i, row in features.iterrows():\n",
    "    no_overlap.append(sum(row.max_time<features.min_time))"
   ]
  },
  {
   "cell_type": "code",
   "execution_count": 11,
   "metadata": {
    "scrolled": true
   },
   "outputs": [
    {
     "data": {
      "text/plain": [
       "0"
      ]
     },
     "execution_count": 11,
     "metadata": {},
     "output_type": "execute_result"
    }
   ],
   "source": [
    "sum(no_overlap)"
   ]
  },
  {
   "cell_type": "code",
   "execution_count": 7,
   "metadata": {},
   "outputs": [
    {
     "data": {
      "text/plain": [
       "(3854, 521)"
      ]
     },
     "execution_count": 7,
     "metadata": {},
     "output_type": "execute_result"
    }
   ],
   "source": [
    "features.shape"
   ]
  },
  {
   "cell_type": "code",
   "execution_count": 12,
   "metadata": {},
   "outputs": [],
   "source": [
    "reward_path = './strategies/exhaustive_info.csv'\n",
    "reward = pd.read_csv(reward_path)"
   ]
  },
  {
   "cell_type": "code",
   "execution_count": 16,
   "metadata": {},
   "outputs": [
    {
     "data": {
      "text/plain": [
       "3801"
      ]
     },
     "execution_count": 16,
     "metadata": {},
     "output_type": "execute_result"
    }
   ],
   "source": [
    "sum(reward.label==reward.prediction)"
   ]
  },
  {
   "cell_type": "code",
   "execution_count": 15,
   "metadata": {},
   "outputs": [
    {
     "name": "stderr",
     "output_type": "stream",
     "text": [
      "../../Data/scripts/strategies/classifiers.py:19: SettingWithCopyWarning: \n",
      "A value is trying to be set on a copy of a slice from a DataFrame.\n",
      "Try using .loc[row_indexer,col_indexer] = value instead\n",
      "\n",
      "See the caveats in the documentation: http://pandas.pydata.org/pandas-docs/stable/user_guide/indexing.html#returning-a-view-versus-a-copy\n",
      "  features['features_cols'] = features_cols\n"
     ]
    }
   ],
   "source": [
    "from joblib import Parallel, delayed\n",
    "import json\n",
    "from multiprocessing import Pool\n",
    "import numpy as np\n",
    "import pandas as pd\n",
    "import pickle\n",
    "from tqdm import tqdm\n",
    "\n",
    "# Local libraries\n",
    "import sys\n",
    "sys.path.insert(1, '../../Data/scripts/strategies')\n",
    "from baseline import CasesArchive, Explorer\n",
    "from classifiers import load_clf, build_sets, clf_df_plots\n",
    "from trees import CaseNode\n",
    "\n",
    "%load_ext autoreload\n",
    "%autoreload 2\n",
    "\n",
    "features_path = '../../Data/features/features-2.csv'\n",
    "clf_path = '../../Data/scripts/strategies/classifiers.pkl'\n",
    "train_path = '../../Data/scripts/strategies/train_ids.csv'\n",
    "test_path = '../../Data/scripts/strategies/test_ids.csv'\n",
    "val_path = '../../Data/scripts/strategies/val_ids.csv'\n",
    "\n",
    "test_save = './baseline_test.pk'\n",
    "val_save = './baseline_val.pk'\n",
    "\n",
    "input_order = ['photo', 'spec', 'color']\n",
    "settings_path = '../../Data/scripts/strategies/strategies/settings10.json'\n",
    "\n",
    "features = pd.read_csv(features_path)\n",
    "features, datasets = build_sets(features, classes=['RRC', 'RRAB', 'MIRA_SR', 'DSCT_SXPHE'])\n",
    "clf_df, train_index, test_index = load_clf(features, clf_path, train_path, test_path)"
   ]
  },
  {
   "cell_type": "code",
   "execution_count": 16,
   "metadata": {},
   "outputs": [
    {
     "data": {
      "text/html": [
       "<div>\n",
       "<style scoped>\n",
       "    .dataframe tbody tr th:only-of-type {\n",
       "        vertical-align: middle;\n",
       "    }\n",
       "\n",
       "    .dataframe tbody tr th {\n",
       "        vertical-align: top;\n",
       "    }\n",
       "\n",
       "    .dataframe thead th {\n",
       "        text-align: right;\n",
       "    }\n",
       "</style>\n",
       "<table border=\"1\" class=\"dataframe\">\n",
       "  <thead>\n",
       "    <tr style=\"text-align: right;\">\n",
       "      <th></th>\n",
       "      <th>photo</th>\n",
       "      <th>spec</th>\n",
       "      <th>color</th>\n",
       "      <th>clf</th>\n",
       "    </tr>\n",
       "  </thead>\n",
       "  <tbody>\n",
       "    <tr>\n",
       "      <td>1</td>\n",
       "      <td>0</td>\n",
       "      <td>0</td>\n",
       "      <td>1</td>\n",
       "      <td>(DecisionTreeClassifier(class_weight=None, cri...</td>\n",
       "    </tr>\n",
       "    <tr>\n",
       "      <td>2</td>\n",
       "      <td>0</td>\n",
       "      <td>1</td>\n",
       "      <td>0</td>\n",
       "      <td>(DecisionTreeClassifier(class_weight=None, cri...</td>\n",
       "    </tr>\n",
       "    <tr>\n",
       "      <td>3</td>\n",
       "      <td>0</td>\n",
       "      <td>1</td>\n",
       "      <td>1</td>\n",
       "      <td>(DecisionTreeClassifier(class_weight=None, cri...</td>\n",
       "    </tr>\n",
       "    <tr>\n",
       "      <td>4</td>\n",
       "      <td>1</td>\n",
       "      <td>0</td>\n",
       "      <td>0</td>\n",
       "      <td>(DecisionTreeClassifier(class_weight=None, cri...</td>\n",
       "    </tr>\n",
       "    <tr>\n",
       "      <td>5</td>\n",
       "      <td>1</td>\n",
       "      <td>0</td>\n",
       "      <td>1</td>\n",
       "      <td>(DecisionTreeClassifier(class_weight=None, cri...</td>\n",
       "    </tr>\n",
       "    <tr>\n",
       "      <td>6</td>\n",
       "      <td>1</td>\n",
       "      <td>1</td>\n",
       "      <td>0</td>\n",
       "      <td>(DecisionTreeClassifier(class_weight=None, cri...</td>\n",
       "    </tr>\n",
       "    <tr>\n",
       "      <td>7</td>\n",
       "      <td>1</td>\n",
       "      <td>1</td>\n",
       "      <td>1</td>\n",
       "      <td>(DecisionTreeClassifier(class_weight=None, cri...</td>\n",
       "    </tr>\n",
       "  </tbody>\n",
       "</table>\n",
       "</div>"
      ],
      "text/plain": [
       "   photo  spec  color                                                clf\n",
       "1      0     0      1  (DecisionTreeClassifier(class_weight=None, cri...\n",
       "2      0     1      0  (DecisionTreeClassifier(class_weight=None, cri...\n",
       "3      0     1      1  (DecisionTreeClassifier(class_weight=None, cri...\n",
       "4      1     0      0  (DecisionTreeClassifier(class_weight=None, cri...\n",
       "5      1     0      1  (DecisionTreeClassifier(class_weight=None, cri...\n",
       "6      1     1      0  (DecisionTreeClassifier(class_weight=None, cri...\n",
       "7      1     1      1  (DecisionTreeClassifier(class_weight=None, cri..."
      ]
     },
     "execution_count": 16,
     "metadata": {},
     "output_type": "execute_result"
    }
   ],
   "source": [
    "clf_df"
   ]
  },
  {
   "cell_type": "code",
   "execution_count": null,
   "metadata": {},
   "outputs": [],
   "source": []
  }
 ],
 "metadata": {
  "kernelspec": {
   "display_name": "Python 3",
   "language": "python",
   "name": "python3"
  },
  "language_info": {
   "codemirror_mode": {
    "name": "ipython",
    "version": 3
   },
   "file_extension": ".py",
   "mimetype": "text/x-python",
   "name": "python",
   "nbconvert_exporter": "python",
   "pygments_lexer": "ipython3",
   "version": "3.6.8"
  }
 },
 "nbformat": 4,
 "nbformat_minor": 2
}
