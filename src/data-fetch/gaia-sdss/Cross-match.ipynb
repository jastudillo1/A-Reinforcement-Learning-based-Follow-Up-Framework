{
 "cells": [
  {
   "cell_type": "code",
   "execution_count": 1,
   "metadata": {},
   "outputs": [],
   "source": [
    "from astropy import units as u\n",
    "from astropy.coordinates import SkyCoord\n",
    "import numpy as np\n",
    "import pandas as pd"
   ]
  },
  {
   "cell_type": "code",
   "execution_count": 2,
   "metadata": {},
   "outputs": [],
   "source": [
    "ctlg_dir = '../../../data/catalogues'\n",
    "gaia_path = f'{ctlg_dir}/gaia/gaia-coords.csv'\n",
    "sdss_path = f'{ctlg_dir}/sdss/sdss-coords.csv'\n",
    "save_path = f'{ctlg_dir}/gaia-sdss/cross-match.csv'"
   ]
  },
  {
   "cell_type": "code",
   "execution_count": 3,
   "metadata": {},
   "outputs": [],
   "source": [
    "gaia_coords_df = pd.read_csv(gaia_path)\n",
    "sdss_coords_df = pd.read_csv(sdss_path)"
   ]
  },
  {
   "cell_type": "code",
   "execution_count": 4,
   "metadata": {},
   "outputs": [],
   "source": [
    "gaia_ra = gaia_coords_df['ra']\n",
    "gaia_dec = gaia_coords_df['dec']\n",
    "gaia_coords = SkyCoord(ra=gaia_ra*u.degree, dec=gaia_dec*u.degree)\n",
    "\n",
    "sdss_ra = sdss_coords_df['PLUG_RA']\n",
    "sdss_dec = sdss_coords_df['PLUG_DEC']\n",
    "sdss_coords = SkyCoord(ra=sdss_ra*u.degree, dec=sdss_dec*u.degree)"
   ]
  },
  {
   "cell_type": "code",
   "execution_count": 5,
   "metadata": {},
   "outputs": [],
   "source": [
    "# Find nearest neighbor\n",
    "\n",
    "idx, d2d, _ = gaia_coords.match_to_catalog_sky(sdss_coords)\n",
    "distances = d2d.arcsecond\n",
    "keep = distances <= 1"
   ]
  },
  {
   "cell_type": "code",
   "execution_count": 6,
   "metadata": {
    "scrolled": false
   },
   "outputs": [
    {
     "name": "stdout",
     "output_type": "stream",
     "text": [
      "4607 (4607,)\n",
      "4607 (4607,)\n"
     ]
    }
   ],
   "source": [
    "# Filter elements in cross-match\n",
    "\n",
    "gaia_cross = gaia_coords_df.iloc[keep]\n",
    "sdss_cross = sdss_coords_df.iloc[idx][keep]\n",
    "print(gaia_cross.shape[0], gaia_cross.index.unique().shape)\n",
    "print(sdss_cross.shape[0], sdss_cross.index.unique().shape)"
   ]
  },
  {
   "cell_type": "code",
   "execution_count": 7,
   "metadata": {},
   "outputs": [],
   "source": [
    "# Build cross-match dataset\n",
    "\n",
    "gaia_cross = gaia_cross.reset_index(drop=True)\n",
    "gaia_cross = gaia_cross.add_suffix('_gaia')\n",
    "sdss_cross = sdss_cross.reset_index(drop=True)\n",
    "sdss_cross = sdss_cross.add_suffix('_sdss')\n",
    "cross_match = gaia_cross.join(sdss_cross)\n",
    "cross_match.to_csv(save_path, index=False)"
   ]
  },
  {
   "cell_type": "code",
   "execution_count": null,
   "metadata": {},
   "outputs": [],
   "source": []
  }
 ],
 "metadata": {
  "kernelspec": {
   "display_name": "Python 3",
   "language": "python",
   "name": "python3"
  },
  "language_info": {
   "codemirror_mode": {
    "name": "ipython",
    "version": 3
   },
   "file_extension": ".py",
   "mimetype": "text/x-python",
   "name": "python",
   "nbconvert_exporter": "python",
   "pygments_lexer": "ipython3",
   "version": "3.6.8"
  }
 },
 "nbformat": 4,
 "nbformat_minor": 2
}
