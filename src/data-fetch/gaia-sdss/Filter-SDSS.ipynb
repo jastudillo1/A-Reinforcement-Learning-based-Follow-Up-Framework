{
 "cells": [
  {
   "cell_type": "code",
   "execution_count": 1,
   "metadata": {},
   "outputs": [],
   "source": [
    "from astropy.io import fits\n",
    "import pandas as pd\n",
    "from time import time"
   ]
  },
  {
   "cell_type": "code",
   "execution_count": 2,
   "metadata": {},
   "outputs": [],
   "source": [
    "ctlg_dir = '../../../data/catalogues'\n",
    "path_read = f'{ctlg_dir}/sdss/specObj-dr14.fits'\n",
    "path_write = f'{ctlg_dir}/sdss/specObj-dr14-primary.fits'"
   ]
  },
  {
   "cell_type": "code",
   "execution_count": null,
   "metadata": {},
   "outputs": [],
   "source": [
    "# Filter only primary \n",
    "t0 = time()\n",
    "hdul = fits.open(path_read, memmap=True)\n",
    "data = hdul[1].data\n",
    "mask = data['SPECPRIMARY']>0\n",
    "data_new = data[mask]\n",
    "hdu_new = fits.BinTableHDU(data=data_new)\n",
    "hdu_new.writeto(path_write)\n",
    "t1 = time()\n",
    "\n",
    "msg = 'Total time: '+ '{:.2f}'.format(t1-t0) + ' s.'\n",
    "print(msg)"
   ]
  },
  {
   "cell_type": "code",
   "execution_count": null,
   "metadata": {},
   "outputs": [],
   "source": []
  }
 ],
 "metadata": {
  "kernelspec": {
   "display_name": "Python 3",
   "language": "python",
   "name": "python3"
  },
  "language_info": {
   "codemirror_mode": {
    "name": "ipython",
    "version": 3
   },
   "file_extension": ".py",
   "mimetype": "text/x-python",
   "name": "python",
   "nbconvert_exporter": "python",
   "pygments_lexer": "ipython3",
   "version": "3.6.8"
  }
 },
 "nbformat": 4,
 "nbformat_minor": 2
}
