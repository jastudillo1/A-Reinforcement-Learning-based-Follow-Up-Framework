{
 "cells": [
  {
   "cell_type": "markdown",
   "metadata": {},
   "source": [
    "**Goal**\n",
    "\n",
    "Add metadata to found cross-match"
   ]
  },
  {
   "cell_type": "code",
   "execution_count": 1,
   "metadata": {},
   "outputs": [],
   "source": [
    "from astropy.io.votable import parse_single_table\n",
    "import numpy as np\n",
    "import pandas as pd\n",
    "from tqdm import tqdm"
   ]
  },
  {
   "cell_type": "code",
   "execution_count": 2,
   "metadata": {},
   "outputs": [],
   "source": [
    "ctlg_dir = '../../../data/catalogues'\n",
    "\n",
    "labels_path = f'{ctlg_dir}/gaia/gaia-vari-classifier-result.csv'\n",
    "xmatch_path = f'{ctlg_dir}/gaia-sdss/cross-match.csv'\n",
    "xmatch_save = f'{ctlg_dir}/gaia-sdss/cross-match-labels.csv'"
   ]
  },
  {
   "cell_type": "code",
   "execution_count": 3,
   "metadata": {},
   "outputs": [],
   "source": [
    "gaia_labels = pd.read_csv(labels_path)\n",
    "gaia_labels = gaia_labels.add_suffix('_gaia')\n",
    "gaia_labels = gaia_labels.set_index('source_id_gaia')"
   ]
  },
  {
   "cell_type": "code",
   "execution_count": 4,
   "metadata": {},
   "outputs": [],
   "source": [
    "xmatch = pd.read_csv(xmatch_path)\n",
    "xmatch = xmatch.set_index('source_id_gaia')\n",
    "xmatch = xmatch.join(gaia_labels)\n",
    "xmatch = xmatch.reset_index()\n",
    "xmatch.to_csv(xmatch_save, index=False)"
   ]
  }
 ],
 "metadata": {
  "kernelspec": {
   "display_name": "Python 3",
   "language": "python",
   "name": "python3"
  },
  "language_info": {
   "codemirror_mode": {
    "name": "ipython",
    "version": 3
   },
   "file_extension": ".py",
   "mimetype": "text/x-python",
   "name": "python",
   "nbconvert_exporter": "python",
   "pygments_lexer": "ipython3",
   "version": "3.6.8"
  }
 },
 "nbformat": 4,
 "nbformat_minor": 2
}
