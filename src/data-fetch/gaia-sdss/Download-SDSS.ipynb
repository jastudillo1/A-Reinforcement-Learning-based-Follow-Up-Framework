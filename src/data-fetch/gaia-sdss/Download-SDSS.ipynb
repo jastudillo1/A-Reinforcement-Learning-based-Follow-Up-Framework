{
 "cells": [
  {
   "cell_type": "code",
   "execution_count": 1,
   "metadata": {},
   "outputs": [],
   "source": [
    "import pandas as pd"
   ]
  },
  {
   "cell_type": "code",
   "execution_count": 2,
   "metadata": {},
   "outputs": [],
   "source": [
    "ctlg_dir = '../../../data/catalogues'\n",
    "obs_dir = '../../../data/observations'\n",
    "\n",
    "read_path = f'{ctlg_dir}/gaia-sdss/cross-match.csv'\n",
    "save_path = f'{ctlg_dir}/gaia-sdss/sdss-urls.txt'"
   ]
  },
  {
   "cell_type": "code",
   "execution_count": 3,
   "metadata": {},
   "outputs": [],
   "source": [
    "cross_match = pd.read_csv(read_path)"
   ]
  },
  {
   "cell_type": "code",
   "execution_count": 4,
   "metadata": {},
   "outputs": [],
   "source": [
    "base_url = {\n",
    "    'boss': 'data.sdss.org/sas/dr15/eboss/spectro/redux/v5_10_0/spectra/',\n",
    "    'legacy': 'data.sdss.org/sas/dr15/sdss/spectro/redux/26/spectra/',\n",
    "    'segue2': 'data.sdss.org/sas/dr15/sdss/spectro/redux/104/spectra/',\n",
    "    'stellar': 'https://data.sdss.org/sas/dr15/sdss/spectro/redux/103/spectra/'\n",
    "}"
   ]
  },
  {
   "cell_type": "code",
   "execution_count": 5,
   "metadata": {},
   "outputs": [],
   "source": [
    "def get_urls(cross_match):\n",
    "    urls = []\n",
    "    for _, entry in cross_match.iterrows():\n",
    "        id_ = entry.source_id_gaia\n",
    "        survey = entry.SURVEY_sdss\n",
    "        mjd = entry.MJD_sdss\n",
    "        plate = entry.PLATE_sdss\n",
    "        fiber = entry.FIBERID_sdss\n",
    "\n",
    "        url_ = None\n",
    "        if (plate >= 266) and (plate <= 2974):\n",
    "            url_ = base_url['legacy']\n",
    "        elif (plate >= 3000) and (plate<=3509):\n",
    "            url_ = base_url['segue2']\n",
    "        elif (plate>=3510):\n",
    "            url_ = base_url['boss']\n",
    "        else:\n",
    "            raise ValueError('Unkown URL assigned to gaia id {}, plate {}'.format(id_, plate))\n",
    "        \n",
    "        plate = str(entry.PLATE_sdss).zfill(4)\n",
    "        fiber = str(entry.FIBERID_sdss).zfill(4)\n",
    "        url_ = url_ + '{}/spec-{}-{}-{}.fits'.format(plate, plate, mjd, fiber)\n",
    "        urls.append(url_)\n",
    "    return urls"
   ]
  },
  {
   "cell_type": "code",
   "execution_count": 6,
   "metadata": {},
   "outputs": [],
   "source": [
    "urls = get_urls(cross_match)\n",
    "urls_df = pd.DataFrame(urls)\n",
    "urls_df.to_csv(save_path, header=False, index=False)"
   ]
  },
  {
   "cell_type": "markdown",
   "metadata": {},
   "source": [
    "### Check download"
   ]
  },
  {
   "cell_type": "code",
   "execution_count": 7,
   "metadata": {},
   "outputs": [],
   "source": [
    "import numpy as np\n",
    "import os"
   ]
  },
  {
   "cell_type": "code",
   "execution_count": 8,
   "metadata": {},
   "outputs": [],
   "source": [
    "spectra_dir = f'{obs_dir}/spectra/sdss/xmatch/'\n",
    "remain_path = './sdss-remaining.txt'"
   ]
  },
  {
   "cell_type": "code",
   "execution_count": 9,
   "metadata": {},
   "outputs": [],
   "source": [
    "def get_urls_out(df):\n",
    "    urls = []\n",
    "    for _, entry in df.iterrows():\n",
    "        id_ = entry.source_id_gaia\n",
    "        survey = entry.SURVEY_sdss\n",
    "        mjd = entry.MJD_sdss\n",
    "        plate = str(entry.PLATE_sdss).zfill(4)\n",
    "        fiber = str(entry.FIBERID_sdss).zfill(4)\n",
    "        url_ = base_url['stellar'] + '{}/spec-{}-{}-{}.fits'.format(plate, plate, mjd, fiber)\n",
    "        urls.append(url_)\n",
    "    return urls"
   ]
  },
  {
   "cell_type": "code",
   "execution_count": 10,
   "metadata": {},
   "outputs": [],
   "source": [
    "urls = np.array(urls)\n",
    "files = [url_.split('/')[-1] for url_ in urls]\n",
    "files_in = os.listdir(spectra_dir)\n",
    "index_out = ~ np.isin(files, files_in)\n",
    "entries_out = cross_match.iloc[index_out]\n",
    "urls_out = get_urls_out(entries_out)\n",
    "urls_out = pd.DataFrame(urls_out)"
   ]
  },
  {
   "cell_type": "code",
   "execution_count": 11,
   "metadata": {},
   "outputs": [],
   "source": [
    "urls_out.to_csv(remain_path, index=False, header=False)"
   ]
  },
  {
   "cell_type": "code",
   "execution_count": 12,
   "metadata": {},
   "outputs": [
    {
     "data": {
      "text/plain": [
       "array([], shape=(0, 0), dtype=float64)"
      ]
     },
     "execution_count": 12,
     "metadata": {},
     "output_type": "execute_result"
    }
   ],
   "source": [
    "urls_out.values"
   ]
  },
  {
   "cell_type": "code",
   "execution_count": 13,
   "metadata": {},
   "outputs": [
    {
     "data": {
      "text/plain": [
       "(4607, 11)"
      ]
     },
     "execution_count": 13,
     "metadata": {},
     "output_type": "execute_result"
    }
   ],
   "source": [
    "cross_match.shape"
   ]
  },
  {
   "cell_type": "code",
   "execution_count": null,
   "metadata": {},
   "outputs": [],
   "source": []
  }
 ],
 "metadata": {
  "kernelspec": {
   "display_name": "Python 3",
   "language": "python",
   "name": "python3"
  },
  "language_info": {
   "codemirror_mode": {
    "name": "ipython",
    "version": 3
   },
   "file_extension": ".py",
   "mimetype": "text/x-python",
   "name": "python",
   "nbconvert_exporter": "python",
   "pygments_lexer": "ipython3",
   "version": "3.6.8"
  }
 },
 "nbformat": 4,
 "nbformat_minor": 2
}
