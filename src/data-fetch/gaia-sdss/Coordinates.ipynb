{
 "cells": [
  {
   "cell_type": "markdown",
   "metadata": {},
   "source": [
    "Get RA, DEC coordinates from downloaded catalogue files from Gaia and SDSS."
   ]
  },
  {
   "cell_type": "code",
   "execution_count": 1,
   "metadata": {},
   "outputs": [],
   "source": [
    "from astropy.io.votable import parse_single_table\n",
    "import numpy as np\n",
    "import pandas as pd"
   ]
  },
  {
   "cell_type": "markdown",
   "metadata": {},
   "source": [
    "## Gaia coordinates"
   ]
  },
  {
   "cell_type": "code",
   "execution_count": 2,
   "metadata": {},
   "outputs": [],
   "source": [
    "ctlg_dir = '../../../data/catalogues'\n",
    "read_path = f'{ctlg_dir}/gaia/gaia-variable-sources.vot'\n",
    "save_path = f'{ctlg_dir}/gaia/gaia-coords.csv'"
   ]
  },
  {
   "cell_type": "code",
   "execution_count": 3,
   "metadata": {},
   "outputs": [
    {
     "name": "stderr",
     "output_type": "stream",
     "text": [
      "WARNING: W35: ../../../data/catalogues/gaia/gaia-variable-sources.vot:5:0: W35: 'value' attribute required for INFO elements [astropy.io.votable.tree]\n",
      "WARNING: W35: ../../../data/catalogues/gaia/gaia-variable-sources.vot:9:0: W35: 'value' attribute required for INFO elements [astropy.io.votable.tree]\n",
      "WARNING: W35: ../../../data/catalogues/gaia/gaia-variable-sources.vot:10:0: W35: 'value' attribute required for INFO elements [astropy.io.votable.tree]\n",
      "WARNING: W35: ../../../data/catalogues/gaia/gaia-variable-sources.vot:11:0: W35: 'value' attribute required for INFO elements [astropy.io.votable.tree]\n",
      "WARNING: W35: ../../../data/catalogues/gaia/gaia-variable-sources.vot:13:0: W35: 'value' attribute required for INFO elements [astropy.io.votable.tree]\n",
      "WARNING: W27: ../../../data/catalogues/gaia/gaia-variable-sources.vot:14:0: W27: COOSYS deprecated in VOTable 1.2 [astropy.io.votable.tree]\n",
      "WARNING: W06: ../../../data/catalogues/gaia/gaia-variable-sources.vot:50:0: W06: Invalid UCD 'arith.ratio': Secondary word 'arith.ratio' is not valid as a primary word [astropy.io.votable.tree]\n",
      "WARNING: W50: ../../../data/catalogues/gaia/gaia-variable-sources.vot:53:0: W50: Invalid unit string 'mas.yr**-1' [astropy.io.votable.tree]\n",
      "WARNING: W50: ../../../data/catalogues/gaia/gaia-variable-sources.vot:56:0: W50: Invalid unit string 'mas.yr**-1' [astropy.io.votable.tree]\n",
      "WARNING: W50: ../../../data/catalogues/gaia/gaia-variable-sources.vot:59:0: W50: Invalid unit string 'mas.yr**-1' [astropy.io.votable.tree]\n",
      "WARNING: W50: ../../../data/catalogues/gaia/gaia-variable-sources.vot:62:0: W50: Invalid unit string 'mas.yr**-1' [astropy.io.votable.tree]\n",
      "WARNING: W50: ../../../data/catalogues/gaia/gaia-variable-sources.vot:125:0: W50: Invalid unit string 'mas**-2' [astropy.io.votable.tree]\n",
      "WARNING: W50: ../../../data/catalogues/gaia/gaia-variable-sources.vot:128:0: W50: Invalid unit string 'um**-1' [astropy.io.votable.tree]\n",
      "WARNING: W06: ../../../data/catalogues/gaia/gaia-variable-sources.vot:131:0: W06: Invalid UCD 'em.wavenumber;stat.error': Primary word 'stat.error' is not valid as a secondary word [astropy.io.votable.tree]\n",
      "WARNING: W50: ../../../data/catalogues/gaia/gaia-variable-sources.vot:131:0: W50: Invalid unit string 'um**-1' [astropy.io.votable.tree]\n",
      "WARNING: W06: ../../../data/catalogues/gaia/gaia-variable-sources.vot:143:0: W06: Invalid UCD 'pos.errorEllipse;stat.max': Secondary word 'pos.errorEllipse' is not valid as a primary word [astropy.io.votable.tree]\n",
      "WARNING: W50: ../../../data/catalogues/gaia/gaia-variable-sources.vot:158:0: W50: Invalid unit string ''electron'.s**-1' [astropy.io.votable.tree]\n",
      "WARNING: W50: ../../../data/catalogues/gaia/gaia-variable-sources.vot:161:0: W50: Invalid unit string ''electron'.s**-1' [astropy.io.votable.tree]\n",
      "WARNING: W06: ../../../data/catalogues/gaia/gaia-variable-sources.vot:164:0: W06: Invalid UCD 'arith.ratio': Secondary word 'arith.ratio' is not valid as a primary word [astropy.io.votable.tree]\n",
      "WARNING: W50: ../../../data/catalogues/gaia/gaia-variable-sources.vot:173:0: W50: Invalid unit string ''electron'.s**-1' (suppressing further warnings of this type...) [astropy.io.votable.tree]\n",
      "WARNING: W06: ../../../data/catalogues/gaia/gaia-variable-sources.vot:179:0: W06: Invalid UCD 'arith.ratio': Secondary word 'arith.ratio' is not valid as a primary word [astropy.io.votable.tree]\n",
      "WARNING: W06: ../../../data/catalogues/gaia/gaia-variable-sources.vot:194:0: W06: Invalid UCD 'arith.ratio': Secondary word 'arith.ratio' is not valid as a primary word [astropy.io.votable.tree]\n",
      "WARNING: W06: ../../../data/catalogues/gaia/gaia-variable-sources.vot:206:0: W06: Invalid UCD 'phot.color': Unknown word 'phot.color' [astropy.io.votable.tree]\n",
      "WARNING: W06: ../../../data/catalogues/gaia/gaia-variable-sources.vot:209:0: W06: Invalid UCD 'phot.color': Unknown word 'phot.color' [astropy.io.votable.tree]\n",
      "WARNING: W06: ../../../data/catalogues/gaia/gaia-variable-sources.vot:212:0: W06: Invalid UCD 'phot.color': Unknown word 'phot.color' [astropy.io.votable.tree]\n",
      "WARNING: W06: ../../../data/catalogues/gaia/gaia-variable-sources.vot:284:0: W06: Invalid UCD 'phys.size.radius;stat.error': Primary word 'stat.error' is not valid as a secondary word (suppressing further warnings of this type...) [astropy.io.votable.tree]\n"
     ]
    }
   ],
   "source": [
    "votable = parse_single_table(read_path, columns = ['source_id', 'ra', 'dec'])\n",
    "table = votable.to_table()\n",
    "coords = pd.DataFrame(np.array(table['source_id', 'ra', 'dec']))\n",
    "coords.to_csv(save_path, index=False)"
   ]
  },
  {
   "cell_type": "markdown",
   "metadata": {},
   "source": [
    "## SDSS coordinates"
   ]
  },
  {
   "cell_type": "code",
   "execution_count": 4,
   "metadata": {},
   "outputs": [],
   "source": [
    "from astropy.io import fits\n",
    "from astropy.table import Table\n",
    "import numpy as np\n",
    "import pandas as pd\n",
    "from time import time"
   ]
  },
  {
   "cell_type": "code",
   "execution_count": 5,
   "metadata": {},
   "outputs": [],
   "source": [
    "read_path = f'{ctlg_dir}/sdss/specObj-dr14-primary.fits'\n",
    "save_path = f'{ctlg_dir}/sdss/sdss-coords.csv'\n",
    "\n",
    "# To search for cross-match\n",
    "search_keys = ['PLUG_RA', 'PLUG_DEC', 'PLATE', 'FIBERID', 'MJD', 'SPECPRIMARY', 'SURVEY']\n",
    "\n",
    "def add_ids(coords):\n",
    "    ffill = lambda s: s.zfill(4)\n",
    "    plate = coords.PLATE.astype(str).apply(ffill)\n",
    "    fiberid = coords.FIBERID.astype(str).apply(ffill)\n",
    "    mjd = coords.MJD.astype(str)\n",
    "    fjoin = lambda arr: '-'.join(arr)\n",
    "    names = [fjoin(arr) for arr in zip(plate, mjd, fiberid)]\n",
    "    coords['ID'] = names\n",
    "    return coords"
   ]
  },
  {
   "cell_type": "code",
   "execution_count": 6,
   "metadata": {},
   "outputs": [
    {
     "name": "stdout",
     "output_type": "stream",
     "text": [
      "Total time: 156.33 s.\n"
     ]
    }
   ],
   "source": [
    "t0 = time()\n",
    "hdul = fits.open(read_path, memmap=True)\n",
    "data = hdul[1].data\n",
    "table = Table(data)\n",
    "coords = pd.DataFrame(np.array(table[search_keys]))\n",
    "coords = add_ids(coords)\n",
    "coords.to_csv(save_path, index=False)\n",
    "t1 = time()\n",
    "\n",
    "msg = 'Total time: '+ '{:.2f}'.format(t1-t0) + ' s.'\n",
    "print(msg)"
   ]
  }
 ],
 "metadata": {
  "kernelspec": {
   "display_name": "Python 3",
   "language": "python",
   "name": "python3"
  },
  "language_info": {
   "codemirror_mode": {
    "name": "ipython",
    "version": 3
   },
   "file_extension": ".py",
   "mimetype": "text/x-python",
   "name": "python",
   "nbconvert_exporter": "python",
   "pygments_lexer": "ipython3",
   "version": "3.6.8"
  }
 },
 "nbformat": 4,
 "nbformat_minor": 2
}
