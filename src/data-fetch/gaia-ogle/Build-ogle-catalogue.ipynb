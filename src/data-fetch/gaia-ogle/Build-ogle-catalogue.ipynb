{
 "cells": [
  {
   "cell_type": "code",
   "execution_count": 1,
   "metadata": {},
   "outputs": [],
   "source": [
    "from glob import glob\n",
    "import numpy as np\n",
    "import pandas as pd"
   ]
  },
  {
   "cell_type": "code",
   "execution_count": 2,
   "metadata": {},
   "outputs": [],
   "source": [
    "read_dir = '../../catalogues/ogle/'\n",
    "save_dir = '../../catalogues/'"
   ]
  },
  {
   "cell_type": "code",
   "execution_count": 3,
   "metadata": {},
   "outputs": [],
   "source": [
    "def get_format(path):\n",
    "    content = []\n",
    "    copying = False\n",
    "    countdown = 3\n",
    "    with open(path, mode = 'r') as f:\n",
    "        for line in f:\n",
    "            searchw = ['format', 'file', 'ident.dat']\n",
    "            matchw = all([w in line.lower() for w in searchw])\n",
    "            if matchw:\n",
    "                copying = True\n",
    "            if copying:\n",
    "                if '-------------' in line:\n",
    "                    countdown -= 1\n",
    "                    if countdown == 0:\n",
    "                        break\n",
    "                else:\n",
    "                    content.append(line)\n",
    "    columns = ['b_start', 'b_end', 'Format', 'Units', 'Description']\n",
    "    data = [[l[:4], l[4:7], l[9:15], l[15:23], l[23:]] for l in content[2:]]\n",
    "    format_ = pd.DataFrame(data, columns=columns)\n",
    "    format_ = format_.applymap(str.strip)\n",
    "    f = lambda s: s.strip('-')\n",
    "    format_.b_start = format_.b_start.apply(f)\n",
    "    format_.b_end = format_.b_end.apply(f)\n",
    "    \n",
    "    # Fill limits\n",
    "    idx = np.where(format_.b_start=='')[0]\n",
    "    format_.loc[idx, 'b_start'] = format_.loc[idx, 'b_end']\n",
    "    idx = np.where(format_.b_end=='')[0]\n",
    "    format_.loc[idx, 'b_end'] = format_.loc[idx, 'b_start']\n",
    "    format_.b_start = format_.b_start.astype(int)\n",
    "    format_.b_end = format_.b_end.astype(int)\n",
    "    \n",
    "    return format_"
   ]
  },
  {
   "cell_type": "code",
   "execution_count": 4,
   "metadata": {},
   "outputs": [],
   "source": [
    "def format_ra(ogle_df):\n",
    "    strip = lambda s: s.split('.0')[0]\n",
    "    ogle_df['Ra (h)'] = ogle_df['Ra (h)'].astype(str).apply(strip)\n",
    "    ogle_df['Ra (m)'] = ogle_df['Ra (m)'].astype(str).apply(strip)\n",
    "    ogle_df['Ra (s)'] = ogle_df['Ra (s)'].astype(str)\n",
    "    join = lambda words: ':'.join(words)\n",
    "    jcols = ['Ra (h)', 'Ra (m)', 'Ra (s)']\n",
    "    ogle_df['ra'] = ogle_df[jcols].apply(join, axis=1)\n",
    "    \n",
    "    return ogle_df"
   ]
  },
  {
   "cell_type": "code",
   "execution_count": 5,
   "metadata": {},
   "outputs": [],
   "source": [
    "def format_dec(ogle_df):\n",
    "    strip = lambda s: s.split('.0')[0]\n",
    "    ogle_df['Dec (sign)'] = ogle_df['Dec (sign)'].astype(str)\n",
    "    ogle_df['Dec (deg)'] = ogle_df['Dec (deg)'].astype(str).apply(strip)\n",
    "    ogle_df['Dec (arc m)'] = ogle_df['Dec (arc m)'].astype(str).apply(strip)\n",
    "    ogle_df['Dec (arc s)'] = ogle_df['Dec (arc s)'].astype(str)\n",
    "    jcols = ['Dec (deg)', 'Dec (arc m)', 'Dec (arc s)']\n",
    "    ogle_df['dec'] = ogle_df[jcols].apply(':'.join, axis=1)\n",
    "    jcols = ['Dec (sign)', 'dec']\n",
    "    ogle_df['dec'] = ogle_df[jcols].apply(''.join, axis=1)\n",
    "    \n",
    "    return ogle_df"
   ]
  },
  {
   "cell_type": "code",
   "execution_count": 6,
   "metadata": {},
   "outputs": [],
   "source": [
    "def format_ctlg(ctlg_path, format_path):\n",
    "    rename = {'Right ascension, equinox J2000.0 (hours)':'Ra (h)',\n",
    "              'Right ascension, equinox 2000.0 (hours)': 'Ra (h)',\n",
    "              'Right ascension, equinox J2000.0 (minutes)': 'Ra (m)',\n",
    "              'Right ascension, equinox 2000.0 (minutes)': 'Ra (m)',\n",
    "              'Right ascension, equinox J2000.0 (seconds)': 'Ra (s)',\n",
    "              'Right ascension, equinox 2000.0 (seconds)': 'Ra (s)',\n",
    "              'Declination, equinox J2000.0 (sign)': 'Dec (sign)',\n",
    "              'Declination, equinox 2000.0 (sign)': 'Dec (sign)',\n",
    "              'Declination, equinox J2000.0 (degrees)': 'Dec (deg)',\n",
    "              'Declination, equinox 2000.0 (degrees)': 'Dec (deg)',\n",
    "              'Declination, equinox J2000.0 (arc minutes)': 'Dec (arc m)',\n",
    "              'Declination, equinox 2000.0 (arc minutes)': 'Dec (arc m)',\n",
    "              'Declination, equinox J2000.0 (arc seconds)': 'Dec (arc s)',\n",
    "              'Declination, equinox 2000.0 (arc seconds)': 'Dec (arc s)',\n",
    "              'Star\\'s ID': 'ID'\n",
    "             }\n",
    "    format_ = get_format(format_path)\n",
    "    slices = list(zip(format_.b_start-1, format_.b_end))\n",
    "    slices = [slice(*lim) for lim in slices]\n",
    "    \n",
    "    with open(ctlg_path, 'r') as f:\n",
    "        data_raw = f.read()\n",
    "    data_raw = data_raw.split('\\n')\n",
    "    data_raw = data_raw[:-1]\n",
    "    data = [[row[s] for s in slices] for row in data_raw]\n",
    "    header = format_.Description\n",
    "    \n",
    "    ctlg = pd.DataFrame(data, columns=header)\n",
    "    ctlg = ctlg.rename(columns=rename)\n",
    "    ctlg = format_dec(ctlg)\n",
    "    ctlg = format_ra(ctlg)\n",
    "    include = ~ctlg['ra'].str.contains('::')\n",
    "    ctlg = ctlg[include]\n",
    "    ctlg['path'] = ctlg_path\n",
    "    ctlg['class'] = ctlg_path.split('-')[-2]\n",
    "    return ctlg"
   ]
  },
  {
   "cell_type": "code",
   "execution_count": 7,
   "metadata": {
    "scrolled": false
   },
   "outputs": [
    {
     "name": "stderr",
     "output_type": "stream",
     "text": [
      "/Users/Javiera/anaconda3/lib/python3.6/site-packages/ipykernel_launcher.py:9: FutureWarning: Sorting because non-concatenation axis is not aligned. A future version\n",
      "of pandas will change to not sort by default.\n",
      "\n",
      "To accept the future behavior, pass 'sort=False'.\n",
      "\n",
      "To retain the current behavior and silence the warning, pass 'sort=True'.\n",
      "\n",
      "  if __name__ == '__main__':\n"
     ]
    }
   ],
   "source": [
    "cpaths = glob(read_dir + '*ident.dat')\n",
    "fpaths = [path.rstrip('ident.dat') + 'README.txt' for path in cpaths]\n",
    "dfs = []\n",
    "\n",
    "for cpath, fpath in zip(cpaths, fpaths):\n",
    "    df = format_ctlg(cpath, fpath)\n",
    "    dfs.append(df)\n",
    "\n",
    "result = pd.concat(dfs)\n",
    "result = result.reset_index(drop=True)"
   ]
  },
  {
   "cell_type": "code",
   "execution_count": 8,
   "metadata": {},
   "outputs": [],
   "source": [
    "result.to_csv(save_dir + 'ogle-variable-sources.csv', index=False)"
   ]
  },
  {
   "cell_type": "code",
   "execution_count": 9,
   "metadata": {},
   "outputs": [
    {
     "name": "stderr",
     "output_type": "stream",
     "text": [
      "/Users/Javiera/anaconda3/lib/python3.6/site-packages/IPython/core/interactiveshell.py:3044: DtypeWarning: Columns (0,1,2,3,8,9,10,11,12,13,14,15,16,18,19,20,21,22,23,24,25,26,27,31,32,33,34,35,36,37,38,39,40,41,42,43,44,45,46,47,48,49,50,51,52,53,54,55,56,57,58,59,60,61) have mixed types. Specify dtype option on import or set low_memory=False.\n",
      "  interactivity=interactivity, compiler=compiler, result=result)\n"
     ]
    }
   ],
   "source": [
    "result = pd.read_csv(save_dir + 'ogle-variable-sources.csv')"
   ]
  },
  {
   "cell_type": "code",
   "execution_count": 15,
   "metadata": {},
   "outputs": [
    {
     "data": {
      "text/plain": [
       "array(['rrlyr', 't2cep', 'cep', 'ecl', 'lpv', 'dsct', 'acep'],\n",
       "      dtype=object)"
      ]
     },
     "execution_count": 15,
     "metadata": {},
     "output_type": "execute_result"
    }
   ],
   "source": [
    "result['class'].unique()"
   ]
  },
  {
   "cell_type": "code",
   "execution_count": null,
   "metadata": {},
   "outputs": [],
   "source": []
  }
 ],
 "metadata": {
  "kernelspec": {
   "display_name": "Python 3",
   "language": "python",
   "name": "python3"
  },
  "language_info": {
   "codemirror_mode": {
    "name": "ipython",
    "version": 3
   },
   "file_extension": ".py",
   "mimetype": "text/x-python",
   "name": "python",
   "nbconvert_exporter": "python",
   "pygments_lexer": "ipython3",
   "version": "3.6.8"
  }
 },
 "nbformat": 4,
 "nbformat_minor": 2
}
